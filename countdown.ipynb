{
  "nbformat": 4,
  "nbformat_minor": 0,
  "metadata": {
    "colab": {
      "name": "countdown.ipynb",
      "provenance": [],
      "collapsed_sections": []
    },
    "kernelspec": {
      "name": "python3",
      "display_name": "Python 3"
    },
    "language_info": {
      "name": "python"
    }
  },
  "cells": [
    {
      "cell_type": "code",
      "execution_count": 6,
      "metadata": {
        "colab": {
          "base_uri": "https://localhost:8080/"
        },
        "id": "Z8F4hX2bolGe",
        "outputId": "54686e29-b42f-4db3-8902-72400b279d4b"
      },
      "outputs": [
        {
          "output_type": "stream",
          "name": "stdout",
          "text": [
            "Input number of seconds to countdown: 5\n",
            "00:05 00:04 00:03 00:02 00:01 Countdown finished.\n"
          ]
        }
      ],
      "source": [
        "import time\n",
        "\n",
        "def countdown(num_of_secs):\n",
        "    while num_of_secs:\n",
        "        m, s = divmod(num_of_secs, 60)\n",
        "        min_sec_format = '{:02d}:{:02d}'.format(m, s)\n",
        "        print(min_sec_format, end=' ')\n",
        "        time.sleep(1)\n",
        "        num_of_secs -= 1\n",
        "        \n",
        "    print('Countdown finished.')\n",
        "    \n",
        "inp = input('Input number of seconds to countdown: ')\n",
        "countdown(int(inp))\n"
      ]
    }
  ]
}